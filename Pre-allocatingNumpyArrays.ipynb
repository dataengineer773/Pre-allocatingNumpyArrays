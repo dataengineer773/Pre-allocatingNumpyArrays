{
 "cells": [
  {
   "cell_type": "code",
   "execution_count": 1,
   "id": "dd61f818-a98a-4a7b-9fcb-7765be59a40f",
   "metadata": {},
   "outputs": [],
   "source": [
    " # Load library\n",
    "import numpy as np"
   ]
  },
  {
   "cell_type": "code",
   "execution_count": 2,
   "id": "5d2352db-9dd3-438b-b2d3-c0cf5d1b39be",
   "metadata": {},
   "outputs": [],
   "source": [
    "# Generate a vector of shape (1,5) containing all zeros\n",
    "vector = np.zeros(shape=5)"
   ]
  },
  {
   "cell_type": "code",
   "execution_count": 3,
   "id": "bb7d90d4-3f20-4d9d-adcb-83a54c20325c",
   "metadata": {},
   "outputs": [
    {
     "name": "stdout",
     "output_type": "stream",
     "text": [
      "[0. 0. 0. 0. 0.]\n"
     ]
    }
   ],
   "source": [
    "# View the vector\n",
    "print(vector)"
   ]
  },
  {
   "cell_type": "code",
   "execution_count": 4,
   "id": "a5fd068f-3276-46bc-ba5d-6d886e725315",
   "metadata": {},
   "outputs": [],
   "source": [
    "# Generate a matrix of shape (3,3) containing all ones\n",
    "matrix = np.full(shape=(3,3), fill_value=1)"
   ]
  },
  {
   "cell_type": "code",
   "execution_count": 5,
   "id": "dfeca0b8-d1ae-4dba-aad0-faa1b71722bd",
   "metadata": {},
   "outputs": [
    {
     "name": "stdout",
     "output_type": "stream",
     "text": [
      "[[1 1 1]\n",
      " [1 1 1]\n",
      " [1 1 1]]\n"
     ]
    }
   ],
   "source": [
    "# View the vector\n",
    "print(matrix)"
   ]
  },
  {
   "cell_type": "code",
   "execution_count": null,
   "id": "dc8d492c-f244-45f8-8d23-a24e59c98a31",
   "metadata": {},
   "outputs": [],
   "source": []
  }
 ],
 "metadata": {
  "kernelspec": {
   "display_name": "Python 3 (ipykernel)",
   "language": "python",
   "name": "python3"
  },
  "language_info": {
   "codemirror_mode": {
    "name": "ipython",
    "version": 3
   },
   "file_extension": ".py",
   "mimetype": "text/x-python",
   "name": "python",
   "nbconvert_exporter": "python",
   "pygments_lexer": "ipython3",
   "version": "3.12.3"
  }
 },
 "nbformat": 4,
 "nbformat_minor": 5
}
